{
 "cells": [
  {
   "cell_type": "code",
   "execution_count": null,
   "id": "f9682842",
   "metadata": {},
   "outputs": [],
   "source": [
    "from statistics import NormalDist\n",
    "mean=int(input(\"Enter the Mean Value:\"))\n",
    "sd=int(input(\"Enter the Standard Deviation:\"))\n",
    "n3=int(input(\"ENTER THE NUMBER FOR WHICH YOU HAVE TO FIND CDF[1]:\"))\n",
    "sym=int(input(\"\\n1.<\\n2.>\\n3.=\\n4.<=\\n5.>=\\nChoose The symbol:\"))\n",
    "n4=int(input(\"ENTER THE NUMBER FOR WHICH YOU HAVE TO FIND CDF[2]:\"))\n",
    "sym1=int(input(\"\\n1.<\\n2.>\\n3.=\\n4.<=\\n5.>=\\nChoose The symbol:\"))\n",
    "nd = NormalDist(mu = mean, sigma= sd)\n",
    "if ((sym==1 and  sym1==1) or (sym==4 and  sym1==4)):\n",
    "    num2=round((nd.cdf((n4)) - nd.cdf((n3)))*100,2)\n",
    "    print(\"The Probability for the given value is \",num2,\"%\")\n",
    "elif((sym==2 and sym1==2 )or (sym==5 and  sym1==5)):\n",
    "    if(n4>=mean):\n",
    "        num1=100-(nd.cdf((n4))*100)\n",
    "        print(\"The Probability for the given value is \",num1,\"%\")\n",
    "    else:\n",
    "        print(\"THE GIVE INPUT IS HAS WRONG CREDENTAILS !!! PLEASE ENTER THE PROPER VALUES AS OF THE GIVEN INSTRUCTIONS:\")\n",
    "elif(sym==3 and sym1==3):\n",
    "    num2=(nd.cdf((n4)))*100\n",
    "    print(\"The Probability for the given value is \",num2,\"%\")\n",
    "else:\n",
    "    print(\"THE GIVE INPUT IS HAS WRONG CREDENTAILS !!! PLEASE ENTER THE PROPER VALUES AS OF THE GIVEN INSTRUCTIONS:\")"
   ]
  }
 ],
 "metadata": {
  "kernelspec": {
   "display_name": "Python 3 (ipykernel)",
   "language": "python",
   "name": "python3"
  },
  "language_info": {
   "codemirror_mode": {
    "name": "ipython",
    "version": 3
   },
   "file_extension": ".py",
   "mimetype": "text/x-python",
   "name": "python",
   "nbconvert_exporter": "python",
   "pygments_lexer": "ipython3",
   "version": "3.9.7"
  }
 },
 "nbformat": 4,
 "nbformat_minor": 5
}
